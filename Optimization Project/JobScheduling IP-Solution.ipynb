{
 "cells": [
  {
   "cell_type": "code",
   "execution_count": 1,
   "id": "5abe2371-76a5-49f2-b998-f297a16370a1",
   "metadata": {},
   "outputs": [],
   "source": [
    "N_JOBS = 7\n",
    "N_MACHINES = 4"
   ]
  },
  {
   "cell_type": "code",
   "execution_count": 2,
   "id": "047ac0b5-0431-4ea3-a3f2-9ed54713bea0",
   "metadata": {},
   "outputs": [],
   "source": [
    "import random\n",
    "\n",
    "def generateData(seed=0):\n",
    "    PROC = [ [ 0 for m in range(N_MACHINES) ] for j in range(N_JOBS) ]\n",
    "    random.seed(seed)\n",
    "    for j in range(N_JOBS):\n",
    "        for m in range(N_MACHINES):\n",
    "            PROC[j][m] = random.randint(1,9)\n",
    "    return PROC"
   ]
  },
  {
   "cell_type": "code",
   "execution_count": 3,
   "id": "a0f62f26-fa55-4dc7-83f7-1c0c6c2b69cd",
   "metadata": {},
   "outputs": [],
   "source": [
    "PROC = generateData(2)"
   ]
  },
  {
   "cell_type": "code",
   "execution_count": 4,
   "id": "3f974614-01de-4091-bf11-0d839c58b7b9",
   "metadata": {},
   "outputs": [
    {
     "data": {
      "text/plain": [
       "[[1, 2, 2, 6],\n",
       " [3, 5, 5, 4],\n",
       " [1, 3, 7, 7],\n",
       " [9, 6, 9, 8],\n",
       " [9, 5, 1, 1],\n",
       " [6, 8, 6, 7],\n",
       " [7, 9, 3, 9]]"
      ]
     },
     "execution_count": 4,
     "metadata": {},
     "output_type": "execute_result"
    }
   ],
   "source": [
    "PROC"
   ]
  },
  {
   "cell_type": "code",
   "execution_count": 5,
   "id": "eca9cf14-548d-4bec-864b-e10fc292e193",
   "metadata": {},
   "outputs": [],
   "source": [
    "import pulp"
   ]
  },
  {
   "cell_type": "code",
   "execution_count": 6,
   "id": "5dfa4b71-cecb-4aeb-a81e-0aa3447b7aee",
   "metadata": {},
   "outputs": [],
   "source": [
    "def val(x):\n",
    "    return int(pulp.value(x))"
   ]
  },
  {
   "cell_type": "code",
   "execution_count": 7,
   "id": "fa8eba92-caba-4edc-bcd1-d744401fed9c",
   "metadata": {},
   "outputs": [],
   "source": [
    "prob = pulp.LpProblem(\"JobScheduling\",pulp.LpMinimize)"
   ]
  },
  {
   "cell_type": "markdown",
   "id": "742b2521-7b22-403e-a6e2-c7b242735fb5",
   "metadata": {},
   "source": [
    "`J[j]` defines the sequencing of jobs 'j' and is just a permutation of the job number:"
   ]
  },
  {
   "cell_type": "code",
   "execution_count": 8,
   "id": "d0b28ee2-4ceb-4b21-969f-bb1ed6669445",
   "metadata": {},
   "outputs": [],
   "source": [
    "JJ = pulp.LpVariable.dicts(\"J\", (range(N_JOBS), range(N_JOBS)),\n",
    "                           lowBound=0, upBound=1, cat='Integer')"
   ]
  },
  {
   "cell_type": "code",
   "execution_count": 9,
   "id": "f0dddb75-19fa-4a18-866e-2df4d99df3b8",
   "metadata": {},
   "outputs": [],
   "source": [
    "def job(n):\n",
    "    for j in range(N_JOBS):\n",
    "        if val(JJ[n][j])==1:\n",
    "            return j"
   ]
  },
  {
   "cell_type": "code",
   "execution_count": 10,
   "id": "224524bd-b926-4966-88b0-7c93e21e6f1c",
   "metadata": {},
   "outputs": [],
   "source": [
    "def jobSequence():\n",
    "    acc = []\n",
    "    for j in range(N_JOBS):\n",
    "        for jj in range(N_JOBS):\n",
    "            if pulp.value(JJ[j][jj])==1:\n",
    "                acc.append(jj)\n",
    "    return acc"
   ]
  },
  {
   "cell_type": "code",
   "execution_count": 11,
   "id": "d67b6358-7795-4386-9300-e824bfeb10e0",
   "metadata": {},
   "outputs": [],
   "source": [
    "def proc(job, machine):\n",
    "    global PROC\n",
    "    return pulp.lpSum( [ PROC[j][machine] * JJ[j][job] for j in range(N_JOBS) ] ) "
   ]
  },
  {
   "cell_type": "markdown",
   "id": "7bf1953c-8aca-4a6f-b255-5f159695d5c1",
   "metadata": {},
   "source": [
    "`WAIT[j][m]` describes the wait time of job `j` before machine `m`"
   ]
  },
  {
   "cell_type": "code",
   "execution_count": 12,
   "id": "1b03f97e-0903-4438-b126-eb75b0888445",
   "metadata": {},
   "outputs": [],
   "source": [
    "Wait = pulp.LpVariable.dicts(\"WAIT\", (range(N_JOBS), range(N_MACHINES)),\n",
    "                          lowBound=0, cat='Integer')"
   ]
  },
  {
   "cell_type": "markdown",
   "id": "8b449eba-4c92-44ed-b4bf-1444a890c9ad",
   "metadata": {},
   "source": [
    "`IDLE[j][m]` describes the idle time of machine `m` before processing job `j` "
   ]
  },
  {
   "cell_type": "code",
   "execution_count": 13,
   "id": "e66c567c-ab0f-4430-b8ca-4e8270c35c86",
   "metadata": {},
   "outputs": [],
   "source": [
    "Idle = pulp.LpVariable.dicts(\"IDLE\", (range(N_JOBS), range(N_MACHINES)),\n",
    "                             lowBound=0, cat='Integer')"
   ]
  },
  {
   "cell_type": "markdown",
   "id": "a0ae21e2-1892-4c4f-919a-c74b2fecbffa",
   "metadata": {},
   "source": [
    "`START[j][m]` describes the start time of machine `m` processing job `j`"
   ]
  },
  {
   "cell_type": "code",
   "execution_count": 14,
   "id": "dbafc352-605d-4ba9-9ef5-183ebc90cb95",
   "metadata": {},
   "outputs": [],
   "source": [
    "Start = pulp.LpVariable.dicts(\"START\", (range(N_JOBS), range(N_MACHINES)),\n",
    "                          lowBound=0, cat='Integer')"
   ]
  },
  {
   "cell_type": "markdown",
   "id": "76efcf5f-d973-4c7e-a6f2-051cfa8ffdbf",
   "metadata": {},
   "source": [
    "`STOP[j][m]` describes the stop time of machine `m` after processing job `j`"
   ]
  },
  {
   "cell_type": "code",
   "execution_count": 15,
   "id": "547449f5-4332-446b-8cd2-65baa2385e21",
   "metadata": {},
   "outputs": [],
   "source": [
    "Stop = pulp.LpVariable.dicts(\"STOP\", (range(N_JOBS), range(N_MACHINES)),\n",
    "                          lowBound=0, cat='Integer')"
   ]
  },
  {
   "cell_type": "code",
   "execution_count": 16,
   "id": "7d2fb60e-873d-49f4-8987-7657e02dfad5",
   "metadata": {},
   "outputs": [],
   "source": [
    "prob += Stop[N_JOBS-1][N_MACHINES-1]"
   ]
  },
  {
   "cell_type": "code",
   "execution_count": 17,
   "id": "a4c1d779-0d8e-4b81-b6b1-a8076ea549f9",
   "metadata": {},
   "outputs": [],
   "source": [
    "for j in range(N_JOBS):\n",
    "    prob += pulp.lpSum( [ JJ[j][jj] for jj in range(N_JOBS) ] ) == 1\n",
    "    prob += pulp.lpSum( [ JJ[jj][j] for jj in range(N_JOBS) ] ) == 1"
   ]
  },
  {
   "cell_type": "code",
   "execution_count": 18,
   "id": "59533752-954e-4b73-a125-3e3f74682a4f",
   "metadata": {},
   "outputs": [],
   "source": [
    "for m in range(N_MACHINES):\n",
    "    for j in range(N_JOBS):\n",
    "        prob += pulp.lpSum( [ Idle[ji][m] + proc(ji, m) for ji in range(j) ] ) + Idle[j][m] == Start[j][m]"
   ]
  },
  {
   "cell_type": "code",
   "execution_count": 19,
   "id": "74891c6c-454e-4b84-94e5-f813a4e44f60",
   "metadata": {},
   "outputs": [],
   "source": [
    "for m in range(N_MACHINES):\n",
    "    for j in range(N_JOBS):\n",
    "        prob += pulp.lpSum( [ Wait[j][mi] + proc(j, mi) for mi in range(m) ] ) + Wait[j][m] == Start[j][m]"
   ]
  },
  {
   "cell_type": "code",
   "execution_count": 20,
   "id": "92aea3f3-4ea0-4b4e-aa73-aec50f2a6f20",
   "metadata": {},
   "outputs": [],
   "source": [
    "for j in range(N_JOBS):\n",
    "    for m in range(N_MACHINES):\n",
    "        prob += Start[j][m] + proc(j,m) == Stop[j][m]"
   ]
  },
  {
   "cell_type": "code",
   "execution_count": 21,
   "id": "3ce6e5b5-3c1b-4031-bd16-a34187f4f3bb",
   "metadata": {},
   "outputs": [
    {
     "data": {
      "text/plain": [
       "1"
      ]
     },
     "execution_count": 21,
     "metadata": {},
     "output_type": "execute_result"
    }
   ],
   "source": [
    "solvers = pulp.listSolvers(onlyAvailable=True) \n",
    "solver = pulp.getSolver(solvers[0], msg=0)\n",
    "prob.solve(solver)"
   ]
  },
  {
   "cell_type": "code",
   "execution_count": 22,
   "id": "17444570-aa9b-42e6-a853-98598486c120",
   "metadata": {},
   "outputs": [],
   "source": [
    "def schedule():\n",
    "    row = \"\"\n",
    "    row += '|---------|'\n",
    "    for m in range(N_MACHINES):\n",
    "        row += f\"------------|\" \\\n",
    "                f\"------------|\"\n",
    "    row += '\\n'\n",
    "    row += '|         |'\n",
    "    for m in range(N_MACHINES):\n",
    "        row += f\"            |\" \\\n",
    "                f\" Machine: {m:1d} |\"\n",
    "    row += '\\n'\n",
    "    for j in range(N_JOBS):\n",
    "        row += '|---------|'\n",
    "        for m in range(N_MACHINES):\n",
    "            row += f\"------------|\" \\\n",
    "                   f\"------------|\"\n",
    "        row += '\\n'\n",
    "        row += '|         |'\n",
    "        for m in range(N_MACHINES):\n",
    "            row += f\"       {' ':4s} | \" \\\n",
    "                   f\"Idle: {val(Idle[j][m]):4d} |\"\n",
    "        row += '\\n'\n",
    "        row += '|---------|'\n",
    "        for m in range(N_MACHINES):\n",
    "            row += f\"------------|\" \\\n",
    "                   f\"------------|\"\n",
    "        row += '\\n'\n",
    "        row += '|         |'\n",
    "        for m in range(N_MACHINES):\n",
    "            row += f\"       {' ':4s} | \" \\\n",
    "                   f\"Start:{val(Start[j][m]):4d} |\"  \n",
    "        row += '\\n' \n",
    "        row += f'| Job: {job(j):2d} |'\n",
    "        for m in range(N_MACHINES):\n",
    "            row += f\" Wait: {val(Wait[j][m]):4d} | \" \\\n",
    "                   f\"Proc: {val(proc(j,m)):4d} |\"\n",
    "        row += '\\n'\n",
    "        row += '|         |'\n",
    "        for m in range(N_MACHINES):\n",
    "            row += f\"       {' ':4s} | \" \\\n",
    "                   f\"Stop: {val(Stop[j][m]):4d} |\"  \n",
    "        row += '\\n' \n",
    "    row += '|---------|'\n",
    "    for m in range(N_MACHINES):\n",
    "        row += f\"------------|\" \\\n",
    "                f\"------------|\"\n",
    "    row += '\\n'\n",
    "    return row"
   ]
  },
  {
   "cell_type": "markdown",
   "id": "a7ef28b4-462b-4f42-9bc5-8b63942d93fc",
   "metadata": {},
   "source": [
    "The processing times per job and machine:"
   ]
  },
  {
   "cell_type": "code",
   "execution_count": 23,
   "id": "d17cd20b-c03b-465d-b468-a3c8fe23427f",
   "metadata": {},
   "outputs": [
    {
     "data": {
      "text/plain": [
       "[[1, 2, 2, 6],\n",
       " [3, 5, 5, 4],\n",
       " [1, 3, 7, 7],\n",
       " [9, 6, 9, 8],\n",
       " [9, 5, 1, 1],\n",
       " [6, 8, 6, 7],\n",
       " [7, 9, 3, 9]]"
      ]
     },
     "execution_count": 23,
     "metadata": {},
     "output_type": "execute_result"
    }
   ],
   "source": [
    "PROC"
   ]
  },
  {
   "cell_type": "markdown",
   "id": "7629b33d-97c6-4d2a-a31f-65e45520a1e2",
   "metadata": {},
   "source": [
    "The optimal job schedule:"
   ]
  },
  {
   "cell_type": "code",
   "execution_count": 24,
   "id": "c1ac5d36-9498-47e9-9599-ba7607a04416",
   "metadata": {},
   "outputs": [
    {
     "name": "stdout",
     "output_type": "stream",
     "text": [
      "[0, 2, 1, 4, 6, 5, 3]\n"
     ]
    }
   ],
   "source": [
    "print(jobSequence())"
   ]
  },
  {
   "cell_type": "markdown",
   "id": "51411408-e806-4ce9-a7e7-746267e0203b",
   "metadata": {},
   "source": [
    "The processing time of the optimal job schedule:"
   ]
  },
  {
   "cell_type": "code",
   "execution_count": 25,
   "id": "3dbbf2a3-34cb-40d2-b88b-c6f715f57cbf",
   "metadata": {},
   "outputs": [
    {
     "data": {
      "text/plain": [
       "52"
      ]
     },
     "execution_count": 25,
     "metadata": {},
     "output_type": "execute_result"
    }
   ],
   "source": [
    "int(pulp.value(prob.objective))"
   ]
  },
  {
   "cell_type": "markdown",
   "id": "0f6a1846-c2e1-4f5b-b26e-89956a51d2f2",
   "metadata": {},
   "source": [
    "The optimal job schedule in detail:"
   ]
  },
  {
   "cell_type": "code",
   "execution_count": 26,
   "id": "13805846-38f0-4006-a81d-4494b9e4089e",
   "metadata": {
    "scrolled": true
   },
   "outputs": [
    {
     "name": "stdout",
     "output_type": "stream",
     "text": [
      "|---------|------------|------------|------------|------------|------------|------------|------------|------------|\n",
      "|         |            | Machine: 0 |            | Machine: 1 |            | Machine: 2 |            | Machine: 3 |\n",
      "|---------|------------|------------|------------|------------|------------|------------|------------|------------|\n",
      "|         |            | Idle:    0 |            | Idle:    1 |            | Idle:    3 |            | Idle:    5 |\n",
      "|---------|------------|------------|------------|------------|------------|------------|------------|------------|\n",
      "|         |            | Start:   0 |            | Start:   1 |            | Start:   3 |            | Start:   5 |\n",
      "| Job:  0 | Wait:    0 | Proc:    1 | Wait:    0 | Proc:    2 | Wait:    0 | Proc:    2 | Wait:    0 | Proc:    6 |\n",
      "|         |            | Stop:    1 |            | Stop:    3 |            | Stop:    5 |            | Stop:   11 |\n",
      "|---------|------------|------------|------------|------------|------------|------------|------------|------------|\n",
      "|         |            | Idle:    0 |            | Idle:    0 |            | Idle:    1 |            | Idle:    2 |\n",
      "|---------|------------|------------|------------|------------|------------|------------|------------|------------|\n",
      "|         |            | Start:   1 |            | Start:   3 |            | Start:   6 |            | Start:  13 |\n",
      "| Job:  2 | Wait:    1 | Proc:    1 | Wait:    1 | Proc:    3 | Wait:    0 | Proc:    7 | Wait:    0 | Proc:    7 |\n",
      "|         |            | Stop:    2 |            | Stop:    6 |            | Stop:   13 |            | Stop:   20 |\n",
      "|---------|------------|------------|------------|------------|------------|------------|------------|------------|\n",
      "|         |            | Idle:    0 |            | Idle:    1 |            | Idle:    5 |            | Idle:    3 |\n",
      "|---------|------------|------------|------------|------------|------------|------------|------------|------------|\n",
      "|         |            | Start:   2 |            | Start:   7 |            | Start:  18 |            | Start:  23 |\n",
      "| Job:  1 | Wait:    2 | Proc:    3 | Wait:    2 | Proc:    5 | Wait:    6 | Proc:    5 | Wait:    0 | Proc:    4 |\n",
      "|         |            | Stop:    5 |            | Stop:   12 |            | Stop:   23 |            | Stop:   27 |\n",
      "|---------|------------|------------|------------|------------|------------|------------|------------|------------|\n",
      "|         |            | Idle:    0 |            | Idle:    0 |            | Idle:    1 |            | Idle:    0 |\n",
      "|---------|------------|------------|------------|------------|------------|------------|------------|------------|\n",
      "|         |            | Start:   5 |            | Start:  12 |            | Start:  24 |            | Start:  27 |\n",
      "| Job:  4 | Wait:    5 | Proc:    7 | Wait:    0 | Proc:    9 | Wait:    3 | Proc:    3 | Wait:    0 | Proc:    9 |\n",
      "|         |            | Stop:   12 |            | Stop:   21 |            | Stop:   27 |            | Stop:   36 |\n",
      "|---------|------------|------------|------------|------------|------------|------------|------------|------------|\n",
      "|         |            | Idle:    0 |            | Idle:    0 |            | Idle:    0 |            | Idle:    0 |\n",
      "|---------|------------|------------|------------|------------|------------|------------|------------|------------|\n",
      "|         |            | Start:  12 |            | Start:  21 |            | Start:  27 |            | Start:  36 |\n",
      "| Job:  6 | Wait:   12 | Proc:    9 | Wait:    0 | Proc:    6 | Wait:    0 | Proc:    9 | Wait:    0 | Proc:    8 |\n",
      "|         |            | Stop:   21 |            | Stop:   27 |            | Stop:   36 |            | Stop:   44 |\n",
      "|---------|------------|------------|------------|------------|------------|------------|------------|------------|\n",
      "|         |            | Idle:    0 |            | Idle:    0 |            | Idle:    2 |            | Idle:    0 |\n",
      "|---------|------------|------------|------------|------------|------------|------------|------------|------------|\n",
      "|         |            | Start:  21 |            | Start:  27 |            | Start:  38 |            | Start:  44 |\n",
      "| Job:  5 | Wait:   21 | Proc:    6 | Wait:    0 | Proc:    8 | Wait:    3 | Proc:    6 | Wait:    0 | Proc:    7 |\n",
      "|         |            | Stop:   27 |            | Stop:   35 |            | Stop:   44 |            | Stop:   51 |\n",
      "|---------|------------|------------|------------|------------|------------|------------|------------|------------|\n",
      "|         |            | Idle:    0 |            | Idle:    1 |            | Idle:    0 |            | Idle:    0 |\n",
      "|---------|------------|------------|------------|------------|------------|------------|------------|------------|\n",
      "|         |            | Start:  27 |            | Start:  36 |            | Start:  44 |            | Start:  51 |\n",
      "| Job:  3 | Wait:   27 | Proc:    9 | Wait:    0 | Proc:    5 | Wait:    3 | Proc:    1 | Wait:    6 | Proc:    1 |\n",
      "|         |            | Stop:   36 |            | Stop:   41 |            | Stop:   45 |            | Stop:   52 |\n",
      "|---------|------------|------------|------------|------------|------------|------------|------------|------------|\n",
      "\n"
     ]
    }
   ],
   "source": [
    "print(schedule())"
   ]
  }
 ],
 "metadata": {
  "kernelspec": {
   "display_name": "Python 3 (ipykernel)",
   "language": "python",
   "name": "python3"
  },
  "language_info": {
   "codemirror_mode": {
    "name": "ipython",
    "version": 3
   },
   "file_extension": ".py",
   "mimetype": "text/x-python",
   "name": "python",
   "nbconvert_exporter": "python",
   "pygments_lexer": "ipython3",
   "version": "3.12.2"
  }
 },
 "nbformat": 4,
 "nbformat_minor": 5
}
